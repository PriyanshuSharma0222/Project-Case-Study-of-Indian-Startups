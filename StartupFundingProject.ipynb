{
  "nbformat": 4,
  "nbformat_minor": 0,
  "metadata": {
    "colab": {
      "provenance": []
    },
    "kernelspec": {
      "name": "python3",
      "display_name": "Python 3"
    },
    "language_info": {
      "name": "python"
    }
  },
  "cells": [
    {
      "cell_type": "markdown",
      "source": [
        "# **PROJECT 1: CASE STUDY OF INDIAN STARTUPS (PART II)**\n"
      ],
      "metadata": {
        "id": "yG8XlSRntRXX"
      }
    },
    {
      "cell_type": "markdown",
      "source": [
        "## **Problem 1**\n",
        "Your Friend has developed the Product and he wants to establish the product startup and he is searching for a perfect location where getting the investment has a high chance. But due to its financial restriction, he can choose only between three locations -  Bangalore, Mumbai, and NCR. As a friend, you want to help your friend deciding the location. NCR include Gurgaon, Noida and New Delhi. Find the location where the most number of funding is done. That means, find the location where startups has received funding maximum number of times. Plot the bar graph between location and number of funding. Take city name \"Delhi\" as \"New Delhi\". Check the case-sensitiveness of cities also. That means, at some place instead of \"Bangalore\", \"bangalore\" is given. Take city name as \"Bangalore\". For few startups multiple locations are given, one Indian and one Foreign. Consider the startup if any one of the city lies in given locations.\n"
      ],
      "metadata": {
        "id": "IBwHSedCy3r4"
      }
    },
    {
      "cell_type": "code",
      "source": [
        "# Importing libraries\n",
        "import numpy as np\n",
        "import pandas as pd\n",
        "import matplotlib.pyplot as plt\n",
        "\n",
        "# Reading the given csv file (i.e. 'startup_funding.csv').\n",
        "data = pd.read_csv('https://drive.google.com/u/0/uc?id=1UaWCHLBZpxCmTSrmQQ5RXM5OMay17z8V&export=download')\n",
        "\n",
        "# Removing rows where Column 'CityLocation' or 'AmountInUSD' is empty.\n",
        "data = data[pd.notnull(data.CityLocation)]\n",
        "data = data[pd.notnull(data.AmountInUSD)]\n",
        "\n",
        "# Making corrections to the dataset as instructed.\n",
        "data.CityLocation.replace('Delhi', 'New Delhi', inplace=True)\n",
        "data.CityLocation.replace('bangalore', 'Bangalore', inplace=True)\n",
        "data.CityLocation.replace('SFO / Bangalore', 'Bangalore', inplace=True)\n",
        "data.CityLocation.replace('Seattle / Bangalore', 'Bangalore', inplace=True)\n",
        "\n",
        "# data cleaning of Column 'CityLocation'.\n",
        "def convert(x):\n",
        "  return x.split('/')[0].strip()\n",
        "data['CityName'] = data.CityLocation.apply(convert)\n",
        "\n",
        "# Trimming the dataset to rows belonging to target cities.\n",
        "TargetCities = ['Bangalore', 'Mumbai', 'New Delhi', 'Gurgaon', 'Noida']\n",
        "\n",
        "boolIndex = []\n",
        "for city in data.CityName:\n",
        "  if(city in TargetCities):\n",
        "    boolIndex.append(True)\n",
        "  else:\n",
        "    boolIndex.append(False)\n",
        "\n",
        "data = data[boolIndex]\n",
        "\n",
        "# Counting number of fundings for each city.\n",
        "Count = data.groupby(['CityName'])['CityName'].count()\n",
        "Count = Count.sort_values(ascending=False)\n",
        "\n",
        "Cities = Count.keys()\n",
        "Num = Count.values\n",
        "\n",
        "# Showing output.\n",
        "print('CITY => NUMBER OF FUNDINGS')\n",
        "print('--------------------------')\n",
        "for i in range(len(Cities)):\n",
        "  print('%d.'%(i+1), Cities[i], '=>', Num[i])\n",
        "\n",
        "# Plotting bar graph.\n",
        "print()\n",
        "plt.bar(Cities, Num)\n",
        "plt.title('CITY vs NUMBER OF FUNDINGS')\n",
        "plt.xlabel('CITIES')\n",
        "plt.ylabel('NUMBER OF FUNDINGS')\n",
        "plt.show()\n",
        "\n",
        "# Showing final result.\n",
        "print()\n",
        "print('RESULT:', Cities[0].upper(), 'is the city where the most number of funding is done.')"
      ],
      "metadata": {
        "id": "Kqp8Al1esutu",
        "colab": {
          "base_uri": "https://localhost:8080/",
          "height": 477
        },
        "outputId": "9faa436b-d5ba-446a-9cb5-906e2ba391b6"
      },
      "execution_count": 1,
      "outputs": [
        {
          "output_type": "stream",
          "name": "stdout",
          "text": [
            "CITY => NUMBER OF FUNDINGS\n",
            "--------------------------\n",
            "1. Bangalore => 413\n",
            "2. Mumbai => 303\n",
            "3. New Delhi => 215\n",
            "4. Gurgaon => 166\n",
            "5. Noida => 46\n",
            "\n"
          ]
        },
        {
          "output_type": "display_data",
          "data": {
            "text/plain": [
              "<Figure size 432x288 with 1 Axes>"
            ],
            "image/png": "[encoded data removed]"
          },
          "metadata": {
            "needs_background": "light"
          }
        },
        {
          "output_type": "stream",
          "name": "stdout",
          "text": [
            "\n",
            "RESULT: BANGALORE is the city where the most number of funding is done.\n"
          ]
        }
      ]
    },
    {
      "cell_type": "markdown",
      "source": [
        "## **Problem 2**\n",
        "Even after trying for so many times, your friend’s startup could not find the investment. So you decided to take this matter in your hand and try to find the list of investors who probably can invest in your friend’s startup. Your list will increase the chance of your friend startup getting some initial investment by contacting these investors. Find the top 5 investors who have invested maximum number of times (consider repeat investments in one company also). In a startup, multiple investors might have invested. So consider each investor for that startup. Ignore undisclosed investors."
      ],
      "metadata": {
        "id": "8ZJRXzuK_ffE"
      }
    },
    {
      "cell_type": "code",
      "source": [
        "# Importing libraries\n",
        "import numpy as np\n",
        "import pandas as pd\n",
        "import matplotlib.pyplot as plt\n",
        "\n",
        "# Reading the given csv file (i.e. 'startup_funding.csv').\n",
        "data = pd.read_csv('https://drive.google.com/u/0/uc?id=1UaWCHLBZpxCmTSrmQQ5RXM5OMay17z8V&export=download')\n",
        "\n",
        "# Removing rows where Column 'InvestorsName' is empty or undisclosed.\n",
        "data = data[pd.notnull(data.InvestorsName)]\n",
        "data = data[data.InvestorsName != 'undisclosed investor']\n",
        "data = data[data.InvestorsName != 'undisclosed investors']\n",
        "data = data[data.InvestorsName != 'Undisclosed Investors']\n",
        "data = data[data.InvestorsName != 'Undisclosed investors']\n",
        "\n",
        "# Extracting all investors name seperatly.\n",
        "def seperate(x):\n",
        "  return [i.strip() for i in x.split(',')]\n",
        "data['Investors'] = data.InvestorsName.apply(seperate)\n",
        "\n",
        "# Counting number of investments for each investor.\n",
        "Count = {}\n",
        "for i in data.Investors:\n",
        "  for j in i:\n",
        "    Count[j] = Count.get(j, 0) + 1\n",
        "\n",
        "Investors = np.array(list(Count.keys()))\n",
        "Num = np.array(list(Count.values()))\n",
        "\n",
        "# Sorting in descending order.\n",
        "SortedIndex = np.flip(Num.argsort())\n",
        "Investors = Investors[SortedIndex]\n",
        "Num = Num[SortedIndex]\n",
        "\n",
        "# Showing output.\n",
        "print('INVESTOR => NUMBER OF INVESTMENTS')\n",
        "print('---------------------------------')\n",
        "for i in range(5):\n",
        "  print('%d.'%(i+1), Investors[i], '=>', Num[i])\n",
        "\n",
        "# Plotting bar graph.\n",
        "print()\n",
        "plt.bar(Investors[:5], Num[:5])\n",
        "plt.title('TOP 5 INVESTORS')\n",
        "plt.xlabel('INVESTORS')\n",
        "plt.ylabel('NUMBER OF INVESTMENTS')\n",
        "plt.xticks(rotation=30)\n",
        "plt.show()"
      ],
      "metadata": {
        "colab": {
          "base_uri": "https://localhost:8080/",
          "height": 494
        },
        "id": "fk32ubOqno07",
        "outputId": "eb4e91f9-285c-4a6e-9f99-ffdbd22ca8c6"
      },
      "execution_count": 2,
      "outputs": [
        {
          "output_type": "stream",
          "name": "stdout",
          "text": [
            "INVESTOR => NUMBER OF INVESTMENTS\n",
            "---------------------------------\n",
            "1. Sequoia Capital => 64\n",
            "2. Accel Partners => 53\n",
            "3. Kalaari Capital => 44\n",
            "4. SAIF Partners => 41\n",
            "5. Indian Angel Network => 40\n",
            "\n"
          ]
        },
        {
          "output_type": "display_data",
          "data": {
            "text/plain": [
              "<Figure size 432x288 with 1 Axes>"
            ],
            "image/png": "[encoded data removed]"
          },
          "metadata": {
            "needs_background": "light"
          }
        }
      ]
    },
    {
      "cell_type": "markdown",
      "source": [
        "## **Problem 3**\n",
        "After re-analysing the dataset you found out that some investors have invested in the same startup at different number of funding rounds. So before finalising the previous list, you want to improvise it by finding the top 5 investors who have invested in different number of startups. This list will be more helpful than your previous list in finding the investment for your friend startup. Find the top 5 investors who have invested maximum number of times in different companies. That means, if one investor has invested multiple times in one startup, count one for that company. There are many errors in startup names. Ignore correcting all, just handle the important ones - Ola, Flipkart, Oyo and Paytm."
      ],
      "metadata": {
        "id": "tVEgXqKtBmeb"
      }
    },
    {
      "cell_type": "code",
      "source": [
        "# Importing libraries\n",
        "import numpy as np\n",
        "import pandas as pd\n",
        "import matplotlib.pyplot as plt\n",
        "\n",
        "# Reading the given csv file (i.e. 'startup_funding.csv').\n",
        "data = pd.read_csv('https://drive.google.com/u/0/uc?id=1UaWCHLBZpxCmTSrmQQ5RXM5OMay17z8V&export=download')\n",
        "\n",
        "# Removing rows where Column 'InvestorsName' is empty or undisclosed.\n",
        "data = data[pd.notnull(data.InvestorsName)]\n",
        "data = data[data.InvestorsName != 'undisclosed investor']\n",
        "data = data[data.InvestorsName != 'undisclosed investors']\n",
        "data = data[data.InvestorsName != 'Undisclosed Investors']\n",
        "data = data[data.InvestorsName != 'Undisclosed investors']\n",
        "\n",
        "# Making corrections to the dataset as instructed.\n",
        "data.StartupName.replace('Flipkart.com', 'Flipkart', inplace=True)\n",
        "data.StartupName.replace('Ola Cabs', 'Ola', inplace=True)\n",
        "data.StartupName.replace('Olacabs', 'Ola', inplace=True)\n",
        "data.StartupName.replace('Paytm Marketplace', 'Paytm', inplace=True)\n",
        "data.StartupName.replace('OYO Rooms', 'Oyo', inplace=True)\n",
        "data.StartupName.replace('Oyo Rooms', 'Oyo', inplace=True)\n",
        "data.StartupName.replace('OyoRooms', 'Oyo', inplace=True)\n",
        "data.StartupName.replace('Oyorooms', 'Oyo', inplace=True)\n",
        "\n",
        "# Extracting all investors name seperatly.\n",
        "def seperate(x):\n",
        "  return [i.strip() for i in x.split(',')]\n",
        "data['Investors'] = data.InvestorsName.apply(seperate)\n",
        "\n",
        "# Counting number of investments in different companies for each investor.\n",
        "Count = {}\n",
        "for i in data.index:\n",
        "  for j in data.loc[i, 'Investors']:\n",
        "    if(j != ''):\n",
        "      if j in Count:\n",
        "        Count[j].append(data.loc[i, 'StartupName'])\n",
        "      else:\n",
        "        Count[j] = list([data.loc[i, 'StartupName']])\n",
        "\n",
        "for k in Count:\n",
        "  Count[k] = len(np.unique(Count[k]))\n",
        "\n",
        "Investors = np.array(list(Count.keys()))\n",
        "Num = np.array(list(Count.values()))\n",
        "\n",
        "# Sorting in descending order.\n",
        "SortedIndex = np.flip(Num.argsort())\n",
        "Investors = Investors[SortedIndex]\n",
        "Num = Num[SortedIndex]\n",
        "\n",
        "# Showing output.\n",
        "print('INVESTOR => NUMBER OF INVESTMENTS')\n",
        "print('---------------------------------')\n",
        "for i in range(5):\n",
        "  print('%d.'%(i+1), Investors[i], '=>', Num[i])\n",
        "\n",
        "# Plotting bar graph.\n",
        "print()\n",
        "plt.bar(Investors[:5], Num[:5])\n",
        "plt.title('TOP 5 INVESTORS')\n",
        "plt.xlabel('INVESTORS')\n",
        "plt.ylabel('NUMBER OF INVESTMENTS\\n(DIFFERENT COMPANIES)')\n",
        "plt.xticks(rotation=30)\n",
        "plt.show()"
      ],
      "metadata": {
        "colab": {
          "base_uri": "https://localhost:8080/",
          "height": 494
        },
        "id": "424KihDv2rLc",
        "outputId": "7d0e621a-374f-47a8-e57d-118c14e75272"
      },
      "execution_count": 3,
      "outputs": [
        {
          "output_type": "stream",
          "name": "stdout",
          "text": [
            "INVESTOR => NUMBER OF INVESTMENTS\n",
            "---------------------------------\n",
            "1. Sequoia Capital => 48\n",
            "2. Accel Partners => 47\n",
            "3. Kalaari Capital => 41\n",
            "4. Indian Angel Network => 40\n",
            "5. Blume Ventures => 36\n",
            "\n"
          ]
        },
        {
          "output_type": "display_data",
          "data": {
            "text/plain": [
              "<Figure size 432x288 with 1 Axes>"
            ],
            "image/png": "[encoded data removed]"
          },
          "metadata": {
            "needs_background": "light"
          }
        }
      ]
    },
    {
      "cell_type": "markdown",
      "source": [
        "# **Problem 4**\n",
        "Even after putting so much effort in finding the probable investors, it didn't turn out to be helpful for your friend. So you went to your investor friend to understand the situation better and your investor friend explained to you about the different Investment Types and their features. This new information will be helpful in finding the right investor. Since your friend startup is at an early stage startup, the best-suited investment type would be - Seed Funding and Crowdfunding. Find the top 5 investors who have invested in a different number of startups and their investment type is Crowdfunding or Seed Funding. Correct spelling of investment types are - \"Private Equity\", \"Seed Funding\", \"Debt Funding\", and \"Crowd Funding\". Keep an eye for any spelling mistake. You can find this by printing unique values from this column. There are many errors in startup names. Ignore correcting all, just handle the important ones - Ola, Flipkart, Oyo and Paytm."
      ],
      "metadata": {
        "id": "Az0pTRYDBrvK"
      }
    },
    {
      "cell_type": "code",
      "source": [
        "# Importing libraries\n",
        "import numpy as np\n",
        "import pandas as pd\n",
        "import matplotlib.pyplot as plt\n",
        "\n",
        "# Reading the given csv file (i.e. 'startup_funding.csv').\n",
        "data = pd.read_csv('https://drive.google.com/u/0/uc?id=1UaWCHLBZpxCmTSrmQQ5RXM5OMay17z8V&export=download')\n",
        "data = data[pd.notnull(data.InvestorsName)]\n",
        "\n",
        "# Removing rows where Column 'InvestorsName' is empty or undisclosed.\n",
        "data = data[data.InvestorsName != 'undisclosed investor']\n",
        "data = data[data.InvestorsName != 'undisclosed investors']\n",
        "data = data[data.InvestorsName != 'Undisclosed Investors']\n",
        "data = data[data.InvestorsName != 'Undisclosed investors']\n",
        "\n",
        "# Making corrections to the dataset as instructed.\n",
        "data.InvestmentType.replace('Crowd funding', 'Crowd Funding', inplace=True)\n",
        "data.InvestmentType.replace('PrivateEquity', 'Private Equity', inplace=True)\n",
        "data.InvestmentType.replace('SeedFunding', 'Seed Funding', inplace=True)\n",
        "data.InvestmentType.replace('nan', None, inplace=True)\n",
        "\n",
        "data.StartupName.replace('Flipkart.com', 'Flipkart', inplace=True)\n",
        "data.StartupName.replace('Ola Cabs', 'Ola', inplace=True)\n",
        "data.StartupName.replace('Olacabs', 'Ola', inplace=True)\n",
        "data.StartupName.replace('Paytm Marketplace', 'Paytm', inplace=True)\n",
        "data.StartupName.replace('OYO Rooms', 'Oyo', inplace=True)\n",
        "data.StartupName.replace('Oyo Rooms', 'Oyo', inplace=True)\n",
        "data.StartupName.replace('OyoRooms', 'Oyo', inplace=True)\n",
        "data.StartupName.replace('Oyorooms', 'Oyo', inplace=True)\n",
        "\n",
        "# Keeping only the rows where Column 'InvestmentType' is either seed or crowd funding. \n",
        "data = data[(data.InvestmentType == 'Seed Funding') | (data.InvestmentType == 'Crowd Funding')]\n",
        "\n",
        "# Extracting all investors name seperatly.\n",
        "def seperate(x):\n",
        "  return [i.strip() for i in x.split(',')]\n",
        "data['Investors'] = data.InvestorsName.apply(seperate)\n",
        "\n",
        "# Counting number of investments of type seed/crowd funding in different companies for each investor.\n",
        "Count = {}\n",
        "for i in data.index:\n",
        "  for j in data.loc[i, 'Investors']:\n",
        "    if(j != ''):\n",
        "      if j in Count:\n",
        "        Count[j].append(data.loc[i, 'StartupName'])\n",
        "      else:\n",
        "        Count[j] = list([data.loc[i, 'StartupName']])\n",
        "\n",
        "for k in Count:\n",
        "  Count[k] = len(np.unique(Count[k]))\n",
        "\n",
        "Investors = np.array(list(Count.keys()))\n",
        "Num = np.array(list(Count.values()))\n",
        "\n",
        "# Sorting in descending order.\n",
        "SortedIndex = np.flip(Num.argsort())\n",
        "Investors = Investors[SortedIndex]\n",
        "Num = Num[SortedIndex]\n",
        "\n",
        "# Showing output.\n",
        "print('INVESTOR => NUMBER OF INVESTMENTS')\n",
        "print('---------------------------------')\n",
        "for i in range(5):\n",
        "  print('%d.'%(i+1), Investors[i], '=>', Num[i])\n",
        "\n",
        "# Plotting bar graph.\n",
        "print()\n",
        "plt.bar(Investors[:5], Num[:5])\n",
        "plt.title('TOP 5 INVESTORS')\n",
        "plt.xlabel('INVESTORS')\n",
        "plt.ylabel('NUMBER OF INVESTMENTS\\n(SEED/CROWD FUNDINGS)')\n",
        "plt.xticks(rotation=30)\n",
        "plt.show()"
      ],
      "metadata": {
        "colab": {
          "base_uri": "https://localhost:8080/",
          "height": 502
        },
        "id": "RDQPWwLi6Mct",
        "outputId": "a229d6c2-2690-486e-a456-803d8d61606c"
      },
      "execution_count": 4,
      "outputs": [
        {
          "output_type": "stream",
          "name": "stdout",
          "text": [
            "INVESTOR => NUMBER OF INVESTMENTS\n",
            "---------------------------------\n",
            "1. Indian Angel Network => 33\n",
            "2. Rajan Anandan => 23\n",
            "3. LetsVenture => 16\n",
            "4. Anupam Mittal => 16\n",
            "5. Group of Angel Investors => 14\n",
            "\n"
          ]
        },
        {
          "output_type": "display_data",
          "data": {
            "text/plain": [
              "<Figure size 432x288 with 1 Axes>"
            ],
            "image/png": "[encoded data removed]"
          },
          "metadata": {
            "needs_background": "light"
          }
        }
      ]
    },
    {
      "cell_type": "markdown",
      "source": [
        "## **Problem 5**\n",
        "Due to your immense help, your friend startup successfully got seed funding and it is on the operational mode. Now your friend wants to expand his startup and he is looking for new investors for his startup. Now you again come as a saviour to help your friend and want to create a list of probable new new investors. Before moving forward you remember your investor friend advice that finding the investors by analysing the investment type. Since your friend startup is not in early phase it is in growth stage so the best-suited investment type is Private Equity. Find the top 5 investors who have invested in a different number of startups and their investment type is Private Equity. Correct spelling of investment types are - \"Private Equity\", \"Seed Funding\", \"Debt Funding\", and \"Crowd Funding\". Keep an eye for any spelling mistake. You can find this by printing unique values from this column. There are many errors in startup names. Ignore correcting all, just handle the important ones - Ola, Flipkart, Oyo and Paytm."
      ],
      "metadata": {
        "id": "cCUf57SeBy2I"
      }
    },
    {
      "cell_type": "code",
      "source": [
        "# Importing libraries\n",
        "import numpy as np\n",
        "import pandas as pd\n",
        "import matplotlib.pyplot as plt\n",
        "\n",
        "# Reading the given csv file (i.e. 'startup_funding.csv').\n",
        "data = pd.read_csv('https://drive.google.com/u/0/uc?id=1UaWCHLBZpxCmTSrmQQ5RXM5OMay17z8V&export=download')\n",
        "data = data[pd.notnull(data.InvestorsName)]\n",
        "\n",
        "# Removing rows where Column 'InvestorsName' is empty or undisclosed.\n",
        "data = data[data.InvestorsName != 'undisclosed investor']\n",
        "data = data[data.InvestorsName != 'undisclosed investors']\n",
        "data = data[data.InvestorsName != 'Undisclosed Investors']\n",
        "data = data[data.InvestorsName != 'Undisclosed investors']\n",
        "\n",
        "# Making corrections to the dataset as instructed.\n",
        "data.InvestmentType.replace('Crowd funding', 'Crowd Funding', inplace=True)\n",
        "data.InvestmentType.replace('PrivateEquity', 'Private Equity', inplace=True)\n",
        "data.InvestmentType.replace('SeedFunding', 'Seed Funding', inplace=True)\n",
        "data.InvestmentType.replace('nan', None, inplace=True)\n",
        "\n",
        "data.StartupName.replace('Flipkart.com', 'Flipkart', inplace=True)\n",
        "data.StartupName.replace('Ola Cabs', 'Ola', inplace=True)\n",
        "data.StartupName.replace('Olacabs', 'Ola', inplace=True)\n",
        "data.StartupName.replace('Paytm Marketplace', 'Paytm', inplace=True)\n",
        "data.StartupName.replace('OYO Rooms', 'Oyo', inplace=True)\n",
        "data.StartupName.replace('Oyo Rooms', 'Oyo', inplace=True)\n",
        "data.StartupName.replace('OyoRooms', 'Oyo', inplace=True)\n",
        "data.StartupName.replace('Oyorooms', 'Oyo', inplace=True)\n",
        "\n",
        "# Keeping only the rows where Column 'InvestmentType' is Private Equity. \n",
        "data = data[data.InvestmentType == 'Private Equity']\n",
        "\n",
        "# Extracting all investors name seperatly.\n",
        "def seperate(x):\n",
        "  return [i.strip() for i in x.split(',')]\n",
        "data['Investors'] = data.InvestorsName.apply(seperate)\n",
        "\n",
        "# Counting number of investments of type private equity in different companies for each investor.\n",
        "Count = {}\n",
        "for i in data.index:\n",
        "  for j in data.loc[i, 'Investors']:\n",
        "    if(j != ''):\n",
        "      if j in Count:\n",
        "        Count[j].append(data.loc[i, 'StartupName'])\n",
        "      else:\n",
        "        Count[j] = list([data.loc[i, 'StartupName']])\n",
        "\n",
        "for k in Count:\n",
        "  Count[k] = len(np.unique(Count[k]))\n",
        "\n",
        "Investors = np.array(list(Count.keys()))\n",
        "Num = np.array(list(Count.values()))\n",
        "\n",
        "# Sorting in descending order.\n",
        "SortedIndex = np.flip(Num.argsort())\n",
        "Investors = Investors[SortedIndex]\n",
        "Num = Num[SortedIndex]\n",
        "\n",
        "# Showing output.\n",
        "print('INVESTOR => NUMBER OF INVESTMENTS')\n",
        "print('---------------------------------')\n",
        "for i in range(5):\n",
        "  print('%d.'%(i+1), Investors[i], '=>', Num[i])\n",
        "\n",
        "# Plotting bar graph.\n",
        "print()\n",
        "plt.bar(Investors[:5], Num[:5])\n",
        "plt.title('TOP 5 INVESTORS')\n",
        "plt.xlabel('INVESTORS')\n",
        "plt.ylabel('NUMBER OF INVESTMENTS\\n(PRIVATE EQUITY)')\n",
        "plt.xticks(rotation=30)\n",
        "plt.show()"
      ],
      "metadata": {
        "colab": {
          "base_uri": "https://localhost:8080/",
          "height": 480
        },
        "id": "cIGpJrw1A_X2",
        "outputId": "3279a731-8b53-47a2-e2a9-99c1ca852627"
      },
      "execution_count": 5,
      "outputs": [
        {
          "output_type": "stream",
          "name": "stdout",
          "text": [
            "INVESTOR => NUMBER OF INVESTMENTS\n",
            "---------------------------------\n",
            "1. Sequoia Capital => 45\n",
            "2. Accel Partners => 43\n",
            "3. Kalaari Capital => 35\n",
            "4. Blume Ventures => 27\n",
            "5. SAIF Partners => 24\n",
            "\n"
          ]
        },
        {
          "output_type": "display_data",
          "data": {
            "text/plain": [
              "<Figure size 432x288 with 1 Axes>"
            ],
            "image/png": "[encoded data removed]"
          },
          "metadata": {
            "needs_background": "light"
          }
        }
      ]
    }
  ]
}